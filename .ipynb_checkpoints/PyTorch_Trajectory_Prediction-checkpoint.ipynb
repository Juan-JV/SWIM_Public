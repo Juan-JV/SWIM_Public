{
 "cells": [
  {
   "cell_type": "code",
   "execution_count": 25,
   "metadata": {},
   "outputs": [
    {
     "name": "stdout",
     "output_type": "stream",
     "text": [
      "Tensorflow version:  1.13.1\n",
      "Keras version:  2.2.4\n"
     ]
    }
   ],
   "source": [
    "import tensorflow as tf\n",
    "\n",
    "print ('Tensorflow version: ', tf.__version__)\n",
    "\n",
    "import os\n",
    "os.environ['TF_CPP_MIN_LOG_LEVEL'] = '2'\n",
    "\n",
    "import keras\n",
    "print ('Keras version: ', keras.__version__)"
   ]
  },
  {
   "cell_type": "markdown",
   "metadata": {},
   "source": [
    "### Load required packages"
   ]
  },
  {
   "cell_type": "code",
   "execution_count": 26,
   "metadata": {},
   "outputs": [],
   "source": [
    "from pyspark import SparkConf, SparkContext\n",
    "from datetime import timedelta, date\n",
    "import math\n",
    "import copy\n",
    "import os\n",
    "import pickle\n",
    "import pandas as pd\n",
    "import datetime\n",
    "\n",
    "from sklearn.preprocessing import MinMaxScaler, StandardScaler\n",
    "from sklearn.metrics import mean_squared_error, mean_absolute_error\n",
    "from sklearn.utils import shuffle\n",
    "\n",
    "import torch\n",
    "from torch import nn\n",
    "import torch.nn.functional as F\n",
    "from torch.autograd import Variable\n",
    "\n",
    "import matplotlib\n",
    "import matplotlib.pyplot as plt\n",
    "\n",
    "%matplotlib inline\n",
    "plt.rcParams.update({'font.size': 14, 'font.weight': 'bold', 'xtick.labelsize': 14, 'axes.labelsize': 14,\n",
    "                    'axes.labelweight': 'bold', 'figure.figsize': (12, 8), 'axes.titlesize': 12})\n",
    "\n",
    "from matplotlib import cm\n",
    "import numpy as np\n",
    "\n",
    "## configure print option\n",
    "np.set_printoptions(suppress=True)"
   ]
  },
  {
   "cell_type": "code",
   "execution_count": 27,
   "metadata": {},
   "outputs": [
    {
     "name": "stdout",
     "output_type": "stream",
     "text": [
      "Current device in use: cuda:0\n"
     ]
    }
   ],
   "source": [
    "device = torch.device(\"cuda:0\" if torch.cuda.is_available() else \"cpu\")\n",
    "print('Current device in use:', device)"
   ]
  },
  {
   "cell_type": "code",
   "execution_count": 78,
   "metadata": {},
   "outputs": [
    {
     "data": {
      "text/plain": [
       "['/job:localhost/replica:0/task:0/device:GPU:0']"
      ]
     },
     "execution_count": 78,
     "metadata": {},
     "output_type": "execute_result"
    }
   ],
   "source": [
    "from keras import backend as K\n",
    "K.tensorflow_backend._get_available_gpus()"
   ]
  },
  {
   "cell_type": "code",
   "execution_count": 79,
   "metadata": {},
   "outputs": [],
   "source": [
    "def daterange(date1, date2):\n",
    "    for n in range(int((date2 - date1).days) + 1):\n",
    "        yield date1 + timedelta(n)\n",
    "\n",
    "def date_range_list(start_dt, end_dt):\n",
    "    date_list = []\n",
    "    \n",
    "    for dt in daterange(start_dt, end_dt):\n",
    "        date = dt.strftime(\"%m%d\")\n",
    "        date_list.append(date)\n",
    "        \n",
    "    return date_list"
   ]
  },
  {
   "cell_type": "code",
   "execution_count": 80,
   "metadata": {},
   "outputs": [],
   "source": [
    "def calculate_deviation(track_info, target_col, actual_col):\n",
    "    dev = track_info[target_col].astype('float') - track_info[actual_col].astype('float')\n",
    "    return dev"
   ]
  },
  {
   "cell_type": "markdown",
   "metadata": {},
   "source": [
    "#### Get departure and arrival airport info"
   ]
  },
  {
   "cell_type": "code",
   "execution_count": 30,
   "metadata": {},
   "outputs": [],
   "source": [
    "def get_airport_by_code(ICAO_code):\n",
    "    airports_list = pd.read_csv('airports.dat', header=None, index_col=[0], \n",
    "                      names = ['Name', 'City', 'Country', 'IATA_code', 'ICAO_code', 'Latitude', 'Longitude',\n",
    "                                'Altitude', 'Timezone', 'DST', 'Tz_timezone', 'Type', 'Source'])\n",
    "    \n",
    "    airport = airports_list[airports_list.ICAO_code == ICAO_code]\n",
    "    \n",
    "    if len(airport) == 1:\n",
    "        airport_name = airport['Name'].values[0]\n",
    "        airport_latitude = airport['Latitude'].values[0]\n",
    "        airport_longitude = airport['Longitude'].values[0]\n",
    "    else:\n",
    "        return None, None, None\n",
    "    \n",
    "    return airport_name, airport_latitude, airport_longitude"
   ]
  },
  {
   "cell_type": "markdown",
   "metadata": {},
   "source": [
    "### Build deep learning models: deep neural networks"
   ]
  },
  {
   "cell_type": "markdown",
   "metadata": {},
   "source": [
    "#### Prepare traing and testing data for the DNN model"
   ]
  },
  {
   "cell_type": "code",
   "execution_count": 31,
   "metadata": {},
   "outputs": [],
   "source": [
    "def reshape_data(df):\n",
    "    lat_dev = calculate_deviation(df, 'target_Latitude', 'actual_Latitude')\n",
    "    lng_dev = calculate_deviation(df, 'target_Longitude', 'actual_Longitude')\n",
    "    #altitude_dev = calculate_deviation(df, 'targetAltitude', 'actualAltitude')\n",
    "    data = pd.DataFrame({'x_velocity': df['x_velocity'], 'y_velocity': df['y_velocity'], 'speed': df['actualSpeed'], \n",
    "                         'alt': df['actualAltitude'], 'lat_dev': lat_dev, 'lng_dev': lng_dev})\n",
    "    \n",
    "    data.reset_index(drop=True, inplace=True)\n",
    "    return data\n",
    "\n",
    "def prepare_data(ref_col_name):\n",
    "    input_scaler = MinMaxScaler()\n",
    "    output_scaler = MinMaxScaler()\n",
    "    \n",
    "    train_index = list(np.arange(len(interpolated_df)))\n",
    "    train_index.remove(test_index)\n",
    "\n",
    "    train_data = pd.DataFrame()\n",
    "    for i in train_index:\n",
    "        new_data = reshape_data(interpolated_df[i])\n",
    "        train_data = pd.concat([train_data, new_data], axis = 0, ignore_index = True)\n",
    "                    \n",
    "    test_data = reshape_data(interpolated_df[test_index])\n",
    "        \n",
    "    #print ('min: ', np.min(train_data[ref_col_name]))\n",
    "    #print ('max: ', np.max(train_data[ref_col_name]))\n",
    "    \n",
    "    X_train = train_data\n",
    "    Y_train = pd.DataFrame(train_data[ref_col_name].shift(-1))\n",
    "\n",
    "    X_train.drop(X_train.index[len(X_train)-1], inplace = True)\n",
    "    Y_train.drop(Y_train.index[len(Y_train)-1], inplace = True)\n",
    "\n",
    "    X_train_n = input_scaler.fit_transform(X_train)\n",
    "    Y_train_n = output_scaler.fit_transform(Y_train)\n",
    "    \n",
    "    X_test = test_data\n",
    "    Y_test = pd.DataFrame(test_data[ref_col_name].shift(-1))\n",
    "    \n",
    "    X_test.drop(X_test.index[len(X_test)-1], inplace=True)\n",
    "    Y_test.drop(Y_test.index[len(Y_test)-1], inplace=True)\n",
    "    \n",
    "    X_test_n = input_scaler.transform(X_test)\n",
    "    Y_test_n = output_scaler.transform(Y_test)\n",
    "    \n",
    "    ind_list = [i for i in range(X_train.shape[0])]\n",
    "    ind_list = shuffle(ind_list)\n",
    "    \n",
    "    X_train_n = X_train_n[ind_list, :]\n",
    "    Y_train_n = Y_train_n[ind_list, :]\n",
    "    \n",
    "    return X_train, Y_train, X_train_n, Y_train_n, X_test_n, Y_test_n, input_scaler, output_scaler"
   ]
  },
  {
   "cell_type": "markdown",
   "metadata": {},
   "source": [
    "#### Define commonly used function to transform the scaled data back to orignal values"
   ]
  },
  {
   "cell_type": "code",
   "execution_count": 32,
   "metadata": {},
   "outputs": [],
   "source": [
    "def post_processing(model, file_name, hist):\n",
    "    for key in hist.history.keys():\n",
    "        plt.plot(hist.history[key],label=key)\n",
    "    \n",
    "    plt.title(\"loss={:5.6f}\".format(hist.history[\"loss\"][-1]))\n",
    "    plt.legend()\n",
    "    plt.yscale('log')\n",
    "    plt.xlabel(\"Iteration\", fontsize = 16)\n",
    "    plt.ylabel(\"Loss\", fontsize = 16)\n",
    "    \n",
    "def transform(scaler, val):\n",
    "    original_val = scaler.inverse_transform(np.reshape(val, newshape = (-1, 1)))\n",
    "    return original_val\n",
    "\n",
    "def convert_to_actual_val(col_name, dev_pred = None):\n",
    "    if dev_pred is None:\n",
    "        res = np.reshape(np.array(interpolated_df[test_index][col_name])[1:], newshape = (-1, 1))\n",
    "        res = res.flatten()\n",
    "    else:\n",
    "        res = np.reshape(np.array(interpolated_df[test_index][col_name])[1:], newshape = (-1, 1)) - dev_pred\n",
    "        res = res.flatten()\n",
    "        \n",
    "    return res"
   ]
  },
  {
   "cell_type": "code",
   "execution_count": 33,
   "metadata": {},
   "outputs": [],
   "source": [
    "def from_dev_to_lat_lng(tag, dev_val):\n",
    "    if tag == 'latitude':\n",
    "        y_pred_lat_dev = transform(lat_output_scaler, dev_val)\n",
    "        Y_pred = convert_to_actual_val(col_name = 'target_Latitude', dev_pred = y_pred_lat_dev)\n",
    "    elif tag == 'longitude':\n",
    "        y_pred_lng_dev = transform(lng_output_scaler, dev_val)\n",
    "        Y_pred = convert_to_actual_val(col_name = 'target_Longitude', dev_pred = y_pred_lng_dev)\n",
    "    return Y_pred"
   ]
  },
  {
   "cell_type": "markdown",
   "metadata": {},
   "source": [
    "#### Define function to plot figures for probabilistic prediction"
   ]
  },
  {
   "cell_type": "code",
   "execution_count": 34,
   "metadata": {},
   "outputs": [],
   "source": [
    "def draw_figures(Y_test, y_pred_do, y_pred_do_mean, scaler, col_name):\n",
    "    plt.rcParams.update({'font.size': 16, 'font.weight': 'bold', 'xtick.labelsize': 14, 'axes.labelsize': 18,\n",
    "                    'axes.labelweight': 'bold', 'figure.figsize': (14, 7), 'axes.titlesize': 12})\n",
    "    f = plt.figure()\n",
    "    for i in range(y_pred_do.shape[0]):\n",
    "        plt.scatter(transform(scaler, Y_test), transform(scaler, y_pred_do[i, :]), c='blue', s = 0.1)\n",
    "\n",
    "    plt.xlabel('Actual ' + col_name +  ' Deviation')\n",
    "    plt.ylabel(col_name + ' Deviation Prediction')\n",
    "    f.savefig(\"DNN_\" + col_name + '_1'+ '.pdf', bbox_inches='tight')\n",
    "    \n",
    "    f = plt.figure()\n",
    "    for i in range(y_pred_do.shape[0]):\n",
    "        sca_true_bayes = plt.scatter(np.arange(0, Y_test.shape[0], 1),\n",
    "                                     transform(scaler, y_pred_do[i, :]), s=0.05, c ='green', alpha = 0.9)\n",
    "\n",
    "    sca_true_val = plt.scatter(np.arange(0, Y_test.shape[0], 1), transform(scaler, Y_test), s=20, c ='blue', alpha = 0.9)\n",
    "    plt.ylabel(col_name + ' deviation', fontsize = 20, fontweight = 'bold')\n",
    "    plt.legend((sca_true_val, sca_true_bayes), ('True value', 'Prediction'), loc='upper left', ncol=3)\n",
    "    f.savefig(\"DNN_\" + col_name + '_2'+ '.pdf', bbox_inches='tight')\n",
    "    \n",
    "    f = plt.figure()\n",
    "    sca_true = plt.scatter(np.arange(0, Y_test.shape[0], 1), transform(scaler, Y_test), \n",
    "                           s=12, marker='s', color='b')\n",
    "\n",
    "    sca_pred = plt.scatter(np.arange(0, Y_test.shape[0], 1), transform(scaler, y_pred_do_mean), \n",
    "                           s=12, marker='^', color='r')\n",
    "\n",
    "    plt.xlabel('Time (Unit: 12 seconds)')\n",
    "    plt.ylabel(col_name + ' deviation', fontsize = 20, fontweight = 'bold')\n",
    "\n",
    "    plt.legend((sca_true, sca_pred), ('True value', 'Prediction Mean'), loc='upper right', ncol=3)\n",
    "    \n",
    "    f.savefig(\"DNN_\" + col_name + '_3'+ '.pdf', bbox_inches='tight')"
   ]
  },
  {
   "cell_type": "markdown",
   "metadata": {},
   "source": [
    "#### Define multi-step prediction function for DNN"
   ]
  },
  {
   "cell_type": "code",
   "execution_count": 35,
   "metadata": {},
   "outputs": [],
   "source": [
    "## use the current deviation prediction to calculate the future latitude and longtitude, \n",
    "## replace the deviation along latitude and longitude in the input vector at the next time instant\n",
    "\n",
    "def predict_multi_steps(steps = 100):\n",
    "    pred_loc = list()\n",
    "    \n",
    "    input_data__ = copy.deepcopy(X_test_lat)\n",
    "    if steps >= Y_test_lat.shape[0]:\n",
    "        print ('Please input a reasonable step size')\n",
    "    else:\n",
    "        for i in range(steps):\n",
    "            #print ('time step ', i, ':', X_test_lat[i, :])  \n",
    "            if i == 0:\n",
    "                data = copy.deepcopy(input_data__[i, :])\n",
    "            else:\n",
    "                data = copy.deepcopy(input_data__[i, :])\n",
    "                data[3] = lat_pred_\n",
    "                data[4] = lng_pred_\n",
    "\n",
    "                        \n",
    "            lat_pred_ = PyTorch_DNN_deterministic_pred(lat_model, np.reshape(data, (1, -1)))\n",
    "            current_lat_pred = transform(lat_output_scaler, lat_pred_)\n",
    "            next_lat = interpolated_df[test_index]['target_Latitude'][i+1] - current_lat_pred\n",
    "                        \n",
    "            lng_pred_ = PyTorch_DNN_deterministic_pred(lng_model, np.reshape(data, (1, -1)))\n",
    "            current_lng_pred = transform(lng_output_scaler, lng_pred_)\n",
    "            next_lng = interpolated_df[test_index]['target_Longitude'][i+1] - current_lng_pred\n",
    "            \n",
    "            pred_loc.append([next_lat[0][0], next_lng[0][0]])\n",
    "        \n",
    "    return pred_loc"
   ]
  },
  {
   "cell_type": "markdown",
   "metadata": {},
   "source": [
    "## Part II: RNN model construction"
   ]
  },
  {
   "cell_type": "code",
   "execution_count": 36,
   "metadata": {},
   "outputs": [],
   "source": [
    "def RNN_inverse_transform(index, normalized_val, Y_test):\n",
    "    ind = np.arange(index, feature_dim * step_ahead, feature_dim)\n",
    "    \n",
    "    mu = RNN_output_scaler.mean_[ind]\n",
    "    delta = np.sqrt(RNN_output_scaler.var_[ind])\n",
    "    \n",
    "    pred_val = normalized_val * delta + mu\n",
    "    true_val =  Y_test[:, :, index] * delta + mu\n",
    "    \n",
    "    return pred_val, true_val\n",
    "\n",
    "def inverse_RNN_pred(index, normalized_val):\n",
    "    ind = np.arange(index, feature_dim * step_ahead, feature_dim)\n",
    "    \n",
    "    mu = RNN_output_scaler.mean_[ind]\n",
    "    delta = np.sqrt(RNN_output_scaler.var_[ind])\n",
    "    \n",
    "    pred_val = normalized_val * delta + mu\n",
    "    \n",
    "    return pred_val"
   ]
  },
  {
   "cell_type": "markdown",
   "metadata": {},
   "source": [
    "#### Implementation of Bayesian RNN"
   ]
  },
  {
   "cell_type": "code",
   "execution_count": 37,
   "metadata": {},
   "outputs": [],
   "source": [
    "def RNN_probabilistic_prediction(model, X_test, no_output, n_iter=500):\n",
    "    kdp = KerasDropoutPrediction(model, no_output)\n",
    "    y_pred_do = kdp.predict(X_test, n_iter)\n",
    "    y_pred_do_mean = y_pred_do.mean(axis=0)\n",
    "\n",
    "    y_pred = np.array(model.predict(X_test))\n",
    "    \n",
    "    return y_pred_do, y_pred_do_mean, y_pred"
   ]
  },
  {
   "cell_type": "markdown",
   "metadata": {},
   "source": [
    "## Main Program\n",
    "\n",
    "The main program has **five major** parts:\n",
    "\n",
    "* Read exported flight trajectory data\n",
    "* Preprocess flight trajectory data: remove duplicated data, interpolate the position data if the duration between two consecutive points is larger than a threshold value\n",
    "* Train two DNN models for flight laitude and longitude deviation prediction, no need to build deviation model for altitude because the altitude between flight plan and actual flight trajectory is almost zero\n",
    "* Train two LSTM RNN models for flight trajectory prediction\n",
    "* Integrate the two trained models"
   ]
  },
  {
   "cell_type": "markdown",
   "metadata": {},
   "source": [
    "#### Define global variables"
   ]
  },
  {
   "cell_type": "code",
   "execution_count": 47,
   "metadata": {},
   "outputs": [],
   "source": [
    "use_trained_model = True\n",
    "\n",
    "n_iter = 1000\n",
    "\n",
    "feature_dim = 6\n",
    "\n",
    "start_dt = date(2018, 12, 19)\n",
    "end_dt = date(2019, 2, 8)\n",
    "date_list = date_range_list(start_dt, end_dt)\n",
    "\n",
    "date_list.remove('1222')\n",
    "date_list.remove('0118')\n",
    "date_list.remove('0125')\n",
    "date_list.remove('0126')\n",
    "date_list.remove('0129')\n",
    "\n",
    "flightID_dir = ''\n",
    "\n",
    "flight_ID = 'AAL598'"
   ]
  },
  {
   "cell_type": "markdown",
   "metadata": {},
   "source": [
    "#### Part I: data processing"
   ]
  },
  {
   "cell_type": "code",
   "execution_count": 48,
   "metadata": {
    "scrolled": false
   },
   "outputs": [],
   "source": [
    "flight_data = 'SFDPS' +'_'+ str(start_dt) + '-' + str(end_dt) + '.pkl'\n",
    "per_flight_df = flight_ID + '_' + str(start_dt) + '-' + str(end_dt) +'.pkl'\n",
    "\n",
    "if os.path.exists(flight_data) and os.path.exists(per_flight_df) and True:\n",
    "    SFDPS_data = open(flight_data, 'rb')\n",
    "    common_flight = pickle.load(SFDPS_data)\n",
    "    \n",
    "    flight_trajec = open(per_flight_df, 'rb')\n",
    "    interpolated_df = pickle.load(flight_trajec)\n",
    "    #show_deviation()\n",
    "else:\n",
    "    common_flight = identify_common_flight()\n",
    "    common_flight = sorted(common_flight, key=str.lower)\n",
    "    \n",
    "    #########################################################################\n",
    "    with open(flight_data, 'wb') as f:\n",
    "         pickle.dump(common_flight, f)\n",
    "    \n",
    "    data = generate_flight_data(flight_ID)\n",
    "    \n",
    "    ########################################################################\n",
    "    interpolated_df = process_trajectory()\n",
    "\n",
    "    ########################################################################\n",
    "    show_deviation()\n",
    "    \n",
    "    with open(per_flight_df, 'wb') as f:\n",
    "        pickle.dump(interpolated_df, f)"
   ]
  },
  {
   "cell_type": "markdown",
   "metadata": {},
   "source": [
    "#### Part II: Build DNN Model "
   ]
  },
  {
   "cell_type": "code",
   "execution_count": 49,
   "metadata": {},
   "outputs": [],
   "source": [
    "def PyTorch_build_DNN_model(X_train, Y_train, dropout = 0.1, learning_rate=0.001, iterations = 10000):\n",
    "    X_train_pt = torch.from_numpy(X_train).type(torch.FloatTensor)\n",
    "    Y_train_pt = torch.from_numpy(Y_train).type(torch.FloatTensor)\n",
    "    \n",
    "    net_dropped = torch.nn.Sequential(\n",
    "        torch.nn.Linear(feature_dim, 32),\n",
    "        torch.nn.Dropout(dropout),\n",
    "        torch.nn.ReLU(),\n",
    "        torch.nn.Linear(32, 64),\n",
    "        torch.nn.Dropout(dropout),\n",
    "        torch.nn.ReLU(),\n",
    "        torch.nn.Linear(64, 32),\n",
    "        torch.nn.Dropout(dropout),\n",
    "        torch.nn.ReLU(),\n",
    "        torch.nn.Linear(32, 1),\n",
    "    )\n",
    "    \n",
    "    net_dropped.to(device)\n",
    "    \n",
    "    optimizier_drop = torch.optim.Adam(net_dropped.parameters(), lr=learning_rate)\n",
    "    loss_drop = torch.nn.MSELoss()\n",
    "\n",
    "    for t in range(iterations):\n",
    "        out = net_dropped(X_train_pt.to(device))  # input x and predict based on x\n",
    "        loss = loss_drop(out.to(device), Y_train_pt.to(device))  # must be (1. nn output, 2. target)\n",
    "        optimizier_drop.zero_grad()  # clear gradients for next train\n",
    "        loss.backward()  # backpropagation, compute gradients\n",
    "        optimizier_drop.step()  # apply gradients\n",
    "        \n",
    "        #if t%1000 == 0:\n",
    "        #    print(\"Epoch %d :  %.5f\" % (t, loss))\n",
    "    \n",
    "    return net_dropped\n",
    "\n",
    "def PyTorch_DNN_probabilistic_pred(model, X_test, n_iter):\n",
    "    X_test_pt = torch.from_numpy(X_test).type(torch.FloatTensor)\n",
    "    y_pred_drop = np.zeros(shape = (n_iter, X_test.shape[0]))\n",
    "    \n",
    "    for i in range(n_iter):\n",
    "        model.eval()\n",
    "        for m in model.modules():\n",
    "            if m.__class__.__name__.startswith('Dropout'):\n",
    "                model.train()\n",
    "    \n",
    "        y_pred_dropped = model(X_test_pt.to(device))\n",
    "        y_pred_drop[i, :] = torch.Tensor.cpu(y_pred_dropped).data.numpy().reshape(1, X_test.shape[0])\n",
    "    \n",
    "    y_pred_drop_mean = np.mean(y_pred_drop, axis = 0)\n",
    "    \n",
    "    return y_pred_drop, y_pred_drop_mean\n",
    "\n",
    "def PyTorch_DNN_deterministic_pred(model, X_test):\n",
    "    X_test_pt = torch.from_numpy(X_test).type(torch.FloatTensor)\n",
    "    model.eval()\n",
    "    \n",
    "    y_pred = model(X_test_pt.to(device))\n",
    "    y_pred = torch.Tensor.cpu(y_pred).data.numpy().reshape(1, X_test.shape[0])\n",
    "    \n",
    "    return y_pred"
   ]
  },
  {
   "cell_type": "markdown",
   "metadata": {},
   "source": [
    "#### DNN prediction -- combined results"
   ]
  },
  {
   "cell_type": "code",
   "execution_count": 50,
   "metadata": {
    "scrolled": false
   },
   "outputs": [],
   "source": [
    "def DNN_combined_results():\n",
    "    no_pred = 5\n",
    "    s_t = 35\n",
    "    plt.rcParams.update({'ytick.labelsize': 14})\n",
    "    \n",
    "    f = plt.figure()\n",
    "    for i in range(n_iter):\n",
    "        lat_dev_pred_ = y_pred_do_lat[i, :]\n",
    "        y_pred_do_lat_p = transform(lat_output_scaler, lat_dev_pred_)\n",
    "        Y_lat_pred_p = convert_to_actual_val(col_name = 'target_Latitude', dev_pred = y_pred_do_lat_p)\n",
    "\n",
    "        lng_dev_pred_ = y_pred_do_lng[i, :]\n",
    "        y_pred_do_lng_p = transform(lng_output_scaler, lng_dev_pred_)\n",
    "        Y_lng_pred_p = convert_to_actual_val(col_name = 'target_Longitude', dev_pred = y_pred_do_lng_p)\n",
    "\n",
    "        prob_ = plt.scatter(Y_lng_pred_p[s_t:no_pred+s_t], Y_lat_pred_p[s_t:no_pred+s_t], s = 60, alpha = 0.1, c = 'magenta', \n",
    "                           label = 'Probabilistic model')\n",
    "\n",
    "        \n",
    "    Lat_plan = convert_to_actual_val(col_name = 'target_Latitude')\n",
    "    Lng_plan = convert_to_actual_val(col_name = 'target_Longitude')\n",
    "    \n",
    "    \n",
    "    prob_mean = plt.scatter(from_dev_to_lat_lng('longitude', y_pred_do_mean_lng)[s_t:no_pred+s_t], \n",
    "                from_dev_to_lat_lng('latitude', y_pred_do_mean_lat)[s_t:no_pred+s_t], s = 130, alpha = 0.8, c = 'black',\n",
    "                marker = 'x', label = 'Mean prediction')\n",
    "\n",
    "    determin_ = plt.scatter(Y_lng_pred[s_t:no_pred+s_t], Y_lat_pred[s_t:no_pred+s_t], s = 50, c = '#85C1E9',\n",
    "                            marker = 'o', label = 'Deterministic model')\n",
    "\n",
    "    actual_ = plt.scatter(Y_lng_true[s_t:no_pred+s_t], Y_lat_true[s_t:no_pred+s_t], s = 50, alpha = 0.9, \n",
    "                          color = 'green', label = 'Actual value')\n",
    "    \n",
    "    plan_ = plt.scatter(Lng_plan[s_t:no_pred+s_t], Lat_plan[s_t:no_pred+s_t], s = 50, alpha = 1, c = '#F39C12', \n",
    "                        marker = 'H', label = 'Filed flight plan')\n",
    "    \n",
    "    plt.xlabel('Longitude')\n",
    "    plt.ylabel('Latitude')\n",
    "    \n",
    "    _ = plt.legend(handles = [prob_, prob_mean, determin_, actual_, plan_], loc = 0)\n",
    "    \n",
    "    \n",
    "    #plt.axis('equal')\n",
    "    plt.tight_layout()\n",
    "    plt.show()\n",
    "    f.savefig('combined_result.pdf', bbox_inches='tight')"
   ]
  },
  {
   "cell_type": "code",
   "execution_count": 51,
   "metadata": {},
   "outputs": [],
   "source": [
    "def DNN_deviation_scatter_plot():\n",
    "    #dev_baseline_plt = plt.scatter(lat_dev_baseline, lng_dev_baseline, \n",
    "    #                s = 40, c = 'blue', alpha = 0.8, label = 'Deviation between TT and AT')\n",
    "    \n",
    "    plt.figure()\n",
    "    ax = plt.gca()\n",
    "\n",
    "    # recompute the ax.dataLim\n",
    "    ax.relim()\n",
    "    # update ax.viewLim using the new dataLim\n",
    "    ax.autoscale_view()\n",
    "    \n",
    "    dev_actual_pred_plt = plt.scatter(lat_dev_actual_pred, lng_dev_actual_pred, s = 40, c = 'magenta', \n",
    "                                      alpha = 0.35, label = 'Difference between PT and AT')\n",
    "\n",
    "    plt.xlabel('Latitude deviation')\n",
    "    plt.ylabel('Longitude deviation')\n",
    "    _ = plt.legend(handles = [dev_actual_pred_plt], loc = 2)\n",
    "    \n",
    "    plt.tight_layout()"
   ]
  },
  {
   "cell_type": "code",
   "execution_count": 52,
   "metadata": {},
   "outputs": [],
   "source": [
    "def DNN_deviation_distribution_plot():\n",
    "    one_lat_dev = calculate_deviation(interpolated_df[test_index], 'target_Latitude', 'actual_Latitude')\n",
    "    one_lng_dev = calculate_deviation(interpolated_df[test_index], 'target_Longitude', 'actual_Longitude')\n",
    "\n",
    "    one_lat_to_miles = 70\n",
    "\n",
    "    f = plt.figure(figsize=(18, 6))\n",
    "    f.add_subplot(121)\n",
    "    plt.hist(one_lat_to_miles * lat_dev_actual_pred.T, alpha = 1, label='DNN Model', color = 'blue', bins = 100)\n",
    "    plt.hist(one_lat_to_miles * DNN_Y_lat_train.values[1:2000], alpha = 0.6, label='Historical', color = 'green', bins = 100)\n",
    "    plt.xlabel('Miles')\n",
    "    plt.ylabel('Frequency')\n",
    "    plt.title('The latitude deviation ' + flight_ID, fontsize = 20)\n",
    "    plt.legend(loc='upper right')\n",
    "\n",
    "    one_lng_to_miles = 69\n",
    "    f.add_subplot(122)\n",
    "    plt.hist(one_lat_to_miles * lng_dev_actual_pred.T, alpha=1, label='DNN Model', color = 'blue', bins = 100)\n",
    "    plt.hist(one_lat_to_miles * DNN_Y_lng_train.values[1:2000], alpha=0.6, label='Historical', color = 'green', bins = 100)\n",
    "    plt.xlabel('Miles')\n",
    "    plt.ylabel('Frequency')\n",
    "    plt.title('The longitude deviation ' + flight_ID, fontsize = 20)\n",
    "    plt.legend(loc='upper right')"
   ]
  },
  {
   "cell_type": "markdown",
   "metadata": {},
   "source": [
    "#### Uncertainty Reduction in DNN"
   ]
  },
  {
   "cell_type": "code",
   "execution_count": 53,
   "metadata": {},
   "outputs": [],
   "source": [
    "def DNN_uncertainty_reduction():\n",
    "    n_groups = 2\n",
    "\n",
    "    index = np.arange(n_groups)\n",
    "    bar_width = 0.35\n",
    "    opacity = 0.8\n",
    "\n",
    "    sd_baseline = (np.std(lat_dev_baseline), np.std(lng_dev_baseline))\n",
    "    sd_pred_actual = (np.std(lat_dev_actual_pred), np.std(lng_dev_actual_pred))\n",
    "    \n",
    "    plt.figure()\n",
    "    rects1 = plt.bar(index, sd_baseline, bar_width, alpha = opacity, color='b', label='Historical Data')\n",
    "\n",
    "    rects2 = plt.bar(index + bar_width, sd_pred_actual, bar_width, alpha = opacity, color='g', label='DNN Model')\n",
    "\n",
    "\n",
    "    plt.ylabel(r'$\\sigma$ of trajectory deviation')\n",
    "    plt.xticks([0.17, 1.17], ('Latitude', 'Longitude'))\n",
    "    plt.legend(loc = 2)\n",
    "\n",
    "    plt.tight_layout()\n",
    "    plt.show()"
   ]
  },
  {
   "cell_type": "code",
   "execution_count": 54,
   "metadata": {},
   "outputs": [],
   "source": [
    "def DNN_calculate_deviation():\n",
    "\n",
    "    ### baseline \n",
    "    lat_dev_baseline = np.abs(DNN_Y_lat_train.values)\n",
    "    lng_dev_baseline = np.abs(DNN_Y_lng_train.values)\n",
    "\n",
    "    ### model prediction\n",
    "    #test_target_lat = np.array(interpolated_df[test_index]['target_Latitude']).T\n",
    "    #test_target_lng = np.array(interpolated_df[test_index]['target_Longitude']).T\n",
    "\n",
    "    #dev_target_actual_lat = np.abs(test_target_lat[1:n+1] - Y_lat_true[:n].T)\n",
    "    #dev_target_actual_lng = np.abs(test_target_lng[1:n+1] - Y_lng_true[:n].T)\n",
    "    \n",
    "    n = y_pred_do_mean_lat.shape[0]\n",
    "    lat_dev_actual_pred = np.abs(from_dev_to_lat_lng('latitude', y_pred_do_mean_lat)[:n].T - Y_lat_true[:n].T)\n",
    "    lng_dev_actual_pred = np.abs(from_dev_to_lat_lng('longitude', y_pred_do_mean_lng)[:n].T - Y_lng_true[:n].T)\n",
    "\n",
    "    lat_mu_reduction = (np.mean(lat_dev_baseline) - np.mean(lat_dev_actual_pred))/np.mean(lat_dev_baseline)\n",
    "    lng_mu_reduction = (np.mean(lng_dev_baseline) - np.mean(lng_dev_actual_pred))/np.mean(lng_dev_baseline)\n",
    "    \n",
    "    lat_sd_reduction = (np.std(lat_dev_baseline) - np.std(lat_dev_actual_pred))/np.std(lat_dev_baseline)\n",
    "    lng_sd_reduction = (np.std(lng_dev_baseline) - np.std(lng_dev_actual_pred))/np.std(lng_dev_baseline)\n",
    "    \n",
    "    return lat_dev_baseline, lng_dev_baseline, lat_dev_actual_pred, lng_dev_actual_pred, lat_mu_reduction, lng_mu_reduction, \\\n",
    "           lat_sd_reduction, lng_sd_reduction"
   ]
  },
  {
   "cell_type": "markdown",
   "metadata": {},
   "source": [
    "#### DNN multi-step prediction"
   ]
  },
  {
   "cell_type": "code",
   "execution_count": 55,
   "metadata": {},
   "outputs": [],
   "source": [
    "def DNN_multi_step_prediction():\n",
    "    steps = 10\n",
    "    DNN_multi_pred = predict_multi_steps(steps) ## start from time step 1\n",
    "\n",
    "    DNN_multi_plt = plt.scatter(np.array(DNN_multi_pred)[:, 0], np.array(DNN_multi_pred)[:, 1], \n",
    "                                s = 30, alpha = 0.6, marker = 's', c = 'red', label = 'DNN Prediction')\n",
    "\n",
    "    actual_multi_plt = plt.scatter(Y_lat_true[0:steps], Y_lng_true[0:steps], s = 30, c = 'blue', alpha = 0.6, \n",
    "                                   label = 'Actual Values')\n",
    "\n",
    "    plt.xlabel('Latitude')\n",
    "    plt.ylabel('Longitude')\n",
    "    _ = plt.legend(handles = (DNN_multi_plt, actual_multi_plt), loc = 1)"
   ]
  },
  {
   "cell_type": "markdown",
   "metadata": {},
   "source": [
    "### Part III: Build RNN Model"
   ]
  },
  {
   "cell_type": "code",
   "execution_count": 56,
   "metadata": {},
   "outputs": [
    {
     "name": "stdout",
     "output_type": "stream",
     "text": [
      "['/job:localhost/replica:0/task:0/device:GPU:0']\n",
      "Local devices [name: \"/device:CPU:0\"\n",
      "device_type: \"CPU\"\n",
      "memory_limit: 268435456\n",
      "locality {\n",
      "}\n",
      "incarnation: 6091859837515125829\n",
      ", name: \"/device:GPU:0\"\n",
      "device_type: \"GPU\"\n",
      "memory_limit: 2969164185\n",
      "locality {\n",
      "  bus_id: 1\n",
      "  links {\n",
      "  }\n",
      "}\n",
      "incarnation: 17605021072504407748\n",
      "physical_device_desc: \"device: 0, name: GeForce GTX 745, pci bus id: 0000:01:00.0, compute capability: 5.0\"\n",
      "]\n"
     ]
    }
   ],
   "source": [
    "from keras.models import load_model\n",
    "\n",
    "from keras.layers import Dense, Dropout, LSTM, Flatten, TimeDistributed, Input, GRU\n",
    "from keras.models import Sequential, Model\n",
    "from keras import optimizers\n",
    "from keras.regularizers import l2\n",
    "import keras.backend as K\n",
    "\n",
    "config = tf.ConfigProto(device_count = {'GPU': 2 , 'CPU': 8})\n",
    "sess = tf.Session(config=config)\n",
    "keras.backend.set_session(sess)\n",
    "\n",
    "print (K.tensorflow_backend._get_available_gpus())\n",
    "\n",
    "from tensorflow.python.client import device_lib\n",
    "\n",
    "print('Local devices', device_lib.list_local_devices())"
   ]
  },
  {
   "cell_type": "code",
   "execution_count": 57,
   "metadata": {},
   "outputs": [],
   "source": [
    "class KerasDropoutPrediction(object):\n",
    "    def __init__(self, model, no_output = 1):\n",
    "        model_output = list()\n",
    "        for i in np.arange(no_output, 0, -1):\n",
    "            model_output.append(model.layers[-i].output)\n",
    "            \n",
    "        self.f = K.function([model.layers[0].input, K.learning_phase()], model_output)\n",
    "        self.model_output = no_output\n",
    "    \n",
    "    def predict(self, x, n_iter=10):\n",
    "        result = []\n",
    "        for _ in range(n_iter):\n",
    "            result.append(self.f([x, 1]))\n",
    "            \n",
    "        if self.model_output > 1:\n",
    "            result = np.array(result).reshape(n_iter, self.model_output, len(x), -1)\n",
    "        else:\n",
    "            result = np.array(result).reshape(n_iter, len(x)).T\n",
    "            \n",
    "        return result"
   ]
  },
  {
   "cell_type": "code",
   "execution_count": 58,
   "metadata": {},
   "outputs": [],
   "source": [
    "## Define the sliding window size\n",
    "def generate_RNN_data(window_size = 10, step_ahead = 5):\n",
    "    ## Copy the flight trajectory\n",
    "    RNN_input_data = copy.deepcopy(interpolated_df)\n",
    "\n",
    "    ## Drop unnecessary columns\n",
    "    cols_to_drop = ['arrivalPoint', 'airline', 'departurePoint', 'actualPosition', 'targetPosition', \n",
    "                    'target_Latitude', 'target_Longitude', 'targetAltitude', 'actualPositionTime']\n",
    "    \n",
    "    days = len(RNN_input_data)\n",
    "    for i in range(days):\n",
    "        RNN_input_data[i].drop(cols_to_drop, axis = 1, inplace=True)\n",
    "\n",
    "    RNN_train_data = pd.DataFrame()\n",
    "    RNN_test_data = pd.DataFrame()\n",
    "    for i in range(days):\n",
    "        series = pd.DataFrame()\n",
    "        series_s = RNN_input_data[i]\n",
    "        \n",
    "        for j in np.arange(0, window_size + step_ahead):\n",
    "            series = pd.concat([series, series_s.shift(-j)], axis = 1)\n",
    "            \n",
    "        series.dropna(axis = 0, inplace = True)\n",
    "        \n",
    "        if i != test_index:\n",
    "            ## insert the start and end tags for each record\n",
    "            RNN_train_data = pd.concat([RNN_train_data, series])\n",
    "        else:\n",
    "            RNN_test_data = pd.concat([RNN_test_data, series])\n",
    "    \n",
    "    \n",
    "    X_train_data_ = RNN_train_data.iloc[:,:feature_size]\n",
    "    Y_train_data_ = RNN_train_data.iloc[:,feature_size:]\n",
    "    \n",
    "    X_test_data_ = RNN_test_data.iloc[:,:feature_size]\n",
    "    Y_test_data_ = RNN_test_data.iloc[:,feature_size:]\n",
    "        \n",
    "    RNN_input_scaler = StandardScaler()\n",
    "    RNN_output_scaler = StandardScaler()\n",
    "\n",
    "    X_train_data = RNN_input_scaler.fit_transform(X_train_data_)\n",
    "    X_test_data = RNN_input_scaler.transform(X_test_data_)\n",
    "\n",
    "    Y_train_data = RNN_output_scaler.fit_transform(Y_train_data_)\n",
    "    Y_test_data = RNN_output_scaler.transform(Y_test_data_)\n",
    "\n",
    "    X_train = np.array(X_train_data).reshape(X_train_data.shape[0], window_size, feature_dim)\n",
    "    Y_train = np.array(Y_train_data).reshape(Y_train_data.shape[0], step_ahead, feature_dim)\n",
    "\n",
    "    X_test = np.array(X_test_data).reshape(X_test_data.shape[0], window_size, feature_dim)\n",
    "    Y_test = np.array(Y_test_data).reshape(Y_test_data.shape[0], step_ahead, feature_dim)\n",
    "    \n",
    "    return X_train_data_, Y_train_data_, X_test_data_, Y_test_data_, X_train, Y_train, X_test, \\\n",
    "            Y_test, RNN_input_scaler, RNN_output_scaler"
   ]
  },
  {
   "cell_type": "code",
   "execution_count": 59,
   "metadata": {},
   "outputs": [],
   "source": [
    "def build_RNN_model(idrop, rdrop, odrop, epochs, weight_decay, flag):\n",
    "    inputs = Input(shape=(window_size, feature_dim))\n",
    "\n",
    "    RNN_model = LSTM(50, return_sequences = True, activation = 'relu', kernel_regularizer = l2(weight_decay),\n",
    "                     recurrent_regularizer=l2(weight_decay), dropout=idrop, recurrent_dropout=rdrop)(inputs)\n",
    "    RNN_model = Dropout(odrop)(RNN_model)\n",
    "    \n",
    "    RNN_model = LSTM(50, return_sequences = False, activation = 'relu', kernel_regularizer = l2(weight_decay), \n",
    "                    recurrent_regularizer=l2(weight_decay), dropout=idrop, recurrent_dropout=rdrop)(RNN_model)\n",
    "    RNN_model = Dropout(odrop)(RNN_model)\n",
    "    \n",
    "    RNN_model = keras.layers.Reshape(target_shape = (1, 50))(RNN_model)\n",
    "    \n",
    "    RNN_model = Flatten()(RNN_model)\n",
    "\n",
    "    ## prediction\n",
    "    pred_speed = Dense(units = step_ahead, activation='linear', kernel_regularizer=l2(weight_decay),\n",
    "                            bias_regularizer=l2(weight_decay))(RNN_model)\n",
    "\n",
    "    pred_alt = Dense(units = step_ahead, activation='linear', kernel_regularizer=l2(weight_decay),\n",
    "                            bias_regularizer=l2(weight_decay))(RNN_model)\n",
    "\n",
    "    pred_x = Dense(units = step_ahead, activation='linear', kernel_regularizer=l2(weight_decay),\n",
    "                            bias_regularizer=l2(weight_decay))(RNN_model)\n",
    "\n",
    "    pred_y = Dense(units = step_ahead, activation='linear', kernel_regularizer=l2(weight_decay),\n",
    "                            bias_regularizer=l2(weight_decay))(RNN_model)\n",
    "\n",
    "    pred_lat = Dense(units = step_ahead, activation='linear', kernel_regularizer=l2(weight_decay))(RNN_model)\n",
    "\n",
    "    pred_lng = Dense(units = step_ahead, activation='linear', kernel_regularizer=l2(weight_decay))(RNN_model)\n",
    "    \n",
    "    if flag:\n",
    "        RNN_model = Model(inputs=[inputs], outputs=[pred_alt, pred_x, pred_y])\n",
    "\n",
    "        RNN_model.compile(loss=\"mse\", optimizer=optimizers.adam(lr=0.001))\n",
    "        #RNN_model.summary()\n",
    "\n",
    "        RNN_hist = RNN_model.fit(X_train, [Y_train[:, :, 1], Y_train[:, :, 2], Y_train[:, :, 3]], \n",
    "                                 shuffle = True, verbose=0, epochs = epochs, batch_size = 2048)\n",
    "    else:\n",
    "        RNN_model = Model(inputs=[inputs], outputs=[pred_lat, pred_lng])\n",
    "\n",
    "        RNN_model.compile(loss=\"mse\", optimizer=optimizers.adam(lr=0.001))\n",
    "        #RNN_model.summary()\n",
    "\n",
    "        RNN_hist = RNN_model.fit(X_train, [Y_train[:, :, 4], Y_train[:, :, 5]], shuffle = True, \n",
    "                                 verbose=0, epochs = epochs, batch_size = 2048)\n",
    "    \n",
    "    return RNN_model, RNN_hist"
   ]
  },
  {
   "cell_type": "markdown",
   "metadata": {},
   "source": [
    "#### Define the basic configuration of LSTM"
   ]
  },
  {
   "cell_type": "code",
   "execution_count": 60,
   "metadata": {},
   "outputs": [],
   "source": [
    "window_size = 20\n",
    "step_ahead = 5\n",
    "RNN_pred_steps = 2\n",
    "\n",
    "feature_size = window_size * feature_dim\n",
    "\n",
    "col_names = ['Speed', 'Altitude', 'x_velocity', 'y_velocity', 'Latitude', 'Longitude']"
   ]
  },
  {
   "cell_type": "markdown",
   "metadata": {},
   "source": [
    "#### Visualization of one-step LSTM prediction"
   ]
  },
  {
   "cell_type": "code",
   "execution_count": 61,
   "metadata": {
    "scrolled": false
   },
   "outputs": [],
   "source": [
    "def RNN_one_step_position_pred():\n",
    "    plt.figure()\n",
    "    a = np.arange(col_names.index('Latitude'), feature_size, feature_dim)\n",
    "    b = np.arange(col_names.index('Longitude'), feature_size, feature_dim)\n",
    "\n",
    "    start_index = 0\n",
    "    end_index = 6\n",
    "\n",
    "    legend_input = plt.scatter(X_test_data_.iloc[start_index, a].values, X_test_data_.iloc[start_index, b].values, \n",
    "                               s = 60, c = 'magenta', label = 'Input Data', marker = 'o')\n",
    "\n",
    "    for index_ in range(start_index, end_index):\n",
    "        legend_obs = plt.scatter(lat_test[index_, :], lng_test[index_, :], s = 80, c ='blue', \n",
    "                                 label ='Actual value', marker = 'x')\n",
    "\n",
    "        if index_ == start_index:\n",
    "            legend_pred = plt.scatter(RNN_lat_d[index_, :], RNN_lng_d[index_, :], s = 50, c= 'green', \n",
    "                                      marker = 's', label = 'Prediction')\n",
    "        else:\n",
    "            _ = plt.scatter(RNN_lat_d[index_, 4], RNN_lng_d[index_, 4], s = 50, marker = 's', c= 'green')\n",
    "\n",
    "    _ = plt.legend(handles = [legend_input, legend_obs, legend_pred], loc = 2)\n",
    "    plt.xlabel('Latitude')\n",
    "    plt.ylabel('Longitude')"
   ]
  },
  {
   "cell_type": "markdown",
   "metadata": {},
   "source": [
    "#### Altitude Prediction"
   ]
  },
  {
   "cell_type": "code",
   "execution_count": 62,
   "metadata": {},
   "outputs": [],
   "source": [
    "def RNN_altitude_prediction():\n",
    "    \n",
    "    a = np.arange(col_names.index('Altitude'), feature_size, feature_dim)\n",
    "\n",
    "    start_index = 0\n",
    "    end_index = 6\n",
    "\n",
    "    f = plt.figure(figsize = (12, 6))\n",
    "    legend_input = plt.scatter(range(window_size), X_test_data_.iloc[start_index, a].values, s = 60, \n",
    "                               c = 'magenta', label = 'Input Data', marker = 'o')\n",
    "\n",
    "    for index_ in range(start_index, end_index):\n",
    "        if index_ == start_index:\n",
    "            legend_obs = plt.scatter(range(window_size, window_size + step_ahead), \n",
    "                                 alt_test[index_, :], s = 80, c ='blue', label ='Actual Value', marker = 'x')\n",
    "\n",
    "            legend_pred = plt.scatter(range(window_size, window_size + step_ahead), \n",
    "                                      alt_model_pred[index_, :], s = 100, c= 'green', marker = '.', label = 'RNN Prediction')\n",
    "        else:\n",
    "            legend_obs = plt.scatter(range(window_size + step_ahead + index_-1, window_size + step_ahead+ index_), \n",
    "                                 alt_test[index_, 4], s = 80, c ='blue', label ='Actual Value', marker = 'x')\n",
    "\n",
    "            _ = plt.scatter(range(window_size + step_ahead + index_-1, window_size + step_ahead+ index_),\n",
    "                            alt_model_pred[index_, 4], s = 100, marker = '.', c= 'green')\n",
    "\n",
    "    plt.ylabel('Altitude (Unit: feet)', fontsize =16) \n",
    "    plt.xlabel('Time (Unit: 12 seconds)', fontsize =16)\n",
    "    _ = plt.legend(handles = [legend_input, legend_obs, legend_pred], loc = 2)\n",
    "    f.savefig('RNN_Alt.pdf', bbox_inches='tight')"
   ]
  },
  {
   "cell_type": "code",
   "execution_count": 63,
   "metadata": {},
   "outputs": [],
   "source": [
    "#RNN_altitude_prediction()"
   ]
  },
  {
   "cell_type": "markdown",
   "metadata": {},
   "source": [
    "### Integration of two models"
   ]
  },
  {
   "cell_type": "code",
   "execution_count": 65,
   "metadata": {},
   "outputs": [],
   "source": [
    "def create_RNN_pred_record(input_data, flag, step):\n",
    "    inversed_data = np.zeros((1, step_ahead, feature_dim))\n",
    "    input_data = input_data.reshape(-1, window_size, feature_dim)\n",
    "    \n",
    "    model_state_pred = np.array(state_RNN_model.predict(input_data))\n",
    "    \n",
    "    if step == 0:\n",
    "        model_lat_pred = RNN_lat_mu[row_index + step*step_ahead, :]\n",
    "        model_lng_pred = RNN_lng_mu[row_index + step*step_ahead, :]\n",
    "        model_alt_pred = RNN_alt_mu[row_index + step*step_ahead, :]\n",
    "    else:\n",
    "        Y_model_pred = np.array(lat_lng_RNN_model.predict(input_data))\n",
    "        model_lat_pred = inverse_RNN_pred(col_names.index('Latitude'), Y_model_pred[0, :, :])\n",
    "        model_lng_pred = inverse_RNN_pred(col_names.index('Longitude'), Y_model_pred[1, :, :])\n",
    "        model_alt_pred = inverse_RNN_pred(col_names.index('Altitude'), model_state_pred[0, :, :])\n",
    "\n",
    "    model_x_velocity_pred = inverse_RNN_pred(col_names.index('x_velocity'), model_state_pred[1, :, :])\n",
    "    model_y_velocity_pred = inverse_RNN_pred(col_names.index('y_velocity'), model_state_pred[2, :, :])\n",
    "        \n",
    "    if flag:\n",
    "        model_lat_pred = model_lat_pred + DNN_RNN_correction[0] #+ np.arange(1, 6) * DNN_actual_correction[0]\n",
    "        model_lng_pred = model_lng_pred + DNN_RNN_correction[1] #+ np.arange(1, 6) * DNN_actual_correction[1]\n",
    "        model_alt_pred = model_alt_pred #+ DNN_RNN_correction[2]\n",
    "  \n",
    "    speed = np.sqrt(np.square(model_x_velocity_pred) + np.square(model_y_velocity_pred))\n",
    "    inversed_data[:, :, 0] = speed\n",
    "    inversed_data[:, :, 1] = model_alt_pred\n",
    "    inversed_data[:, :, 2] = model_x_velocity_pred\n",
    "    inversed_data[:, :, 3] = model_y_velocity_pred\n",
    "    inversed_data[:, :, 4] = model_lat_pred\n",
    "    inversed_data[:, :, 5] = model_lng_pred\n",
    "    \n",
    "    return inversed_data.reshape(step_ahead, feature_dim)"
   ]
  },
  {
   "cell_type": "code",
   "execution_count": 66,
   "metadata": {},
   "outputs": [],
   "source": [
    "def multi_step_RNN_pred(row_index, flag = True):\n",
    "    RNN_multi_pred = np.zeros((RNN_pred_steps, step_ahead, feature_dim))\n",
    "    \n",
    "    for i in range(RNN_pred_steps):\n",
    "        input_data = copy.deepcopy(X_test_data_.iloc[row_index + i*step_ahead].values)\n",
    "        new_input_data = input_data.reshape(1, window_size * feature_dim)\n",
    "        \n",
    "        if i == 0:\n",
    "            RNN_pred_tm_ = create_RNN_pred_record(RNN_input_scaler.transform(new_input_data), flag, i)\n",
    "        else:\n",
    "            new_input_data[0, (window_size - step_ahead)*feature_dim:window_size*feature_dim] = \\\n",
    "                                        RNN_pred_tm_.reshape(step_ahead * feature_dim, )\n",
    "            \n",
    "            RNN_pred_tm_ = create_RNN_pred_record(RNN_input_scaler.transform(new_input_data), flag, i)\n",
    "        \n",
    "        RNN_multi_pred[i, :, :] = RNN_pred_tm_\n",
    "    \n",
    "    return RNN_multi_pred.reshape(RNN_pred_steps*step_ahead, feature_dim)"
   ]
  },
  {
   "cell_type": "markdown",
   "metadata": {},
   "source": [
    "#### Compute discrepancy between DNN and RNN predictions"
   ]
  },
  {
   "cell_type": "code",
   "execution_count": 67,
   "metadata": {},
   "outputs": [],
   "source": [
    "def calculate_discrepancy(row_index):\n",
    "    DNN_RNN_correction = list()\n",
    "    DNN_actual_correction = list()\n",
    "\n",
    "    DNN_index_ = row_index + window_size - 1\n",
    "    \n",
    "#     print ('~~~~~~~~~~~~~~~~~~~~~~~~~Deviation between DNN and RNN ~~~~~~~~~~~~~')\n",
    "#     print ('Lat true value: ', Y_lat_true[DNN_index_], 'Lng true value: ', Y_lng_true[DNN_index_])\n",
    "#     print ('Lat DNN mean value: ', DNN_lat_mu[DNN_index_], 'Lng DNN mean value: ', DNN_lng_mu[DNN_index_])\n",
    "\n",
    "#     print ('Lat RNN mean value:', RNN_lat_mu[row_index, 0], 'Lng RNN mean value:', RNN_lng_mu[row_index, 0])\n",
    "\n",
    "    lat_dev__ = (DNN_lat_mu[DNN_index_] - RNN_lat_mu[row_index, 0])\n",
    "    lng_dev__ = (DNN_lng_mu[DNN_index_] - RNN_lng_mu[row_index, 0])\n",
    "    alt_dev__ = (DNN_alt_mu[DNN_index_] - RNN_alt_mu[row_index, 0])\n",
    "    DNN_RNN_correction.append([lat_dev__, lng_dev__, alt_dev__])\n",
    "\n",
    "#    print ('Dev value: ', lat_dev__, 'Lng: ', lng_dev__)\n",
    "    \n",
    "    DNN_actual_lat_dev = 0\n",
    "    DNN_actual_lng_dev = 0\n",
    "    \n",
    "    for j in np.arange(1, 6):\n",
    "        DNN_actual_lat_dev += (Y_lat_true[DNN_index_ - j] - DNN_lat_mu[DNN_index_ - j])\n",
    "        DNN_actual_lng_dev += (Y_lng_true[DNN_index_ - j] - DNN_lng_mu[DNN_index_ - j])\n",
    "        \n",
    "    DNN_actual_lat_dev /= 5\n",
    "    DNN_actual_lng_dev /= 5\n",
    "    #print (DNN_actual_lat_dev, DNN_actual_lng_dev)\n",
    "    \n",
    "    DNN_actual_correction.append([DNN_actual_lat_dev, DNN_actual_lng_dev])\n",
    "    \n",
    "#     print ('~~~~~~~~~~~~~~~~~~~~~~~~~Deviation between actual and DNN ~~~~~~~~~~~~~')\n",
    "#     print ('Actual value:', actual_lat[DNN_index_ - 1], actual_lng[DNN_index_ - 1])\n",
    "#     print ('DNN prediction mean: ', DNN_lat_mu[DNN_index_ - 1], DNN_lng_mu[DNN_index_ - 1])\n",
    "#     print ('Dev value:', actual_lat[DNN_index_ - 1] - DNN_lat_mu[DNN_index_ - 1], \n",
    "#        actual_lng[DNN_index_ - 1] - DNN_lng_mu[DNN_index_ - 1])\n",
    "    \n",
    "#     print ('\\n')\n",
    "#     print ('~~~~~~~~~~~~~~~~~~~~~~~~~After correction ~~~~~~~~~~~~~')\n",
    "#     print ('After correction: Lat value:', RNN_lat_mu[row_index, 0] + lat_dev__, \n",
    "#           'Lng value:', RNN_lng_mu[row_index, 0] + lng_dev__)\n",
    "#     print ('After correction: Lat value:', RNN_lat_mu[row_index, 0] + lat_dev__ + DNN_actual_lat_dev, \n",
    "#           'Lng value:', RNN_lng_mu[row_index, 0] + lng_dev__ + DNN_actual_lng_dev)\n",
    "\n",
    "    return np.array(DNN_RNN_correction).T, np.array(DNN_actual_correction).T"
   ]
  },
  {
   "cell_type": "markdown",
   "metadata": {},
   "source": [
    "#### A demo on Latitude and Longitude"
   ]
  },
  {
   "cell_type": "code",
   "execution_count": 68,
   "metadata": {},
   "outputs": [],
   "source": [
    "def lat_lng_model_comparsion():\n",
    "    \n",
    "    f = plt.figure(figsize = (12, 6))\n",
    "    a = np.arange(4, feature_size, feature_dim)\n",
    "    b = np.arange(5, feature_size, feature_dim)\n",
    "\n",
    "    #input_plt = plt.scatter(X_test_data_.iloc[row_index, a].values, X_test_data_.iloc[row_index, b].values, \n",
    "    #                               s = 80, c = 'magenta', label = 'Input Data', marker = 'X')\n",
    "\n",
    "    In_val = plt.scatter(multi_pred_with_DNN[:, 5], multi_pred_with_DNN[:, 4], s = 80, c= 'blue', label = 'Integrated Model')\n",
    "    RNN_only_ = plt.scatter(multi_pred_no_DNN[:, 5], multi_pred_no_DNN[:, 4], s = 80, c= 'green', label = 'RNN Prediction')\n",
    "    Actual_val = plt.scatter(actual_val[s:s+10, 5], actual_val[s:s+10, 4], marker = '+', c = 'red', s = 90,\n",
    "                             label = 'Actual Value')\n",
    "\n",
    "    _ = plt.legend(handles = [In_val, RNN_only_, Actual_val])\n",
    "    _ = plt.xlabel('Longitude')\n",
    "    _ = plt.ylabel('Latitude')\n",
    "    #plt.ylim([37.125, 37.325])\n",
    "    \n",
    "    \n",
    "    f.savefig('RNN_Lat_Lng_comp.pdf', bbox_inches='tight')"
   ]
  },
  {
   "cell_type": "markdown",
   "metadata": {},
   "source": [
    "#### Altitude"
   ]
  },
  {
   "cell_type": "code",
   "execution_count": 69,
   "metadata": {},
   "outputs": [],
   "source": [
    "def altitude_pred_comparison():\n",
    "    a = np.arange(4, feature_size, feature_dim)\n",
    "    b = np.arange(5, feature_size, feature_dim)\n",
    "\n",
    "    f = plt.figure()\n",
    "    In_val = plt.scatter(np.arange(1, 11), multi_pred_with_DNN[:, 1], s = 80, c= 'blue', label = 'Integrated Model')\n",
    "    RNN_only_ = plt.scatter(np.arange(1, 11), multi_pred_no_DNN[:, 1], s = 80, c= 'green', label = 'RNN Only')\n",
    "    Actual_val = plt.scatter(np.arange(1, 11), actual_val[s:s+10, 1], marker = '+', c = 'red', s = 90,\n",
    "                             label = 'Actual Value')\n",
    "\n",
    "    _ = plt.legend(handles = [In_val, RNN_only_, Actual_val])\n",
    "    _ = plt.xlabel('Iterations')\n",
    "    _ = plt.ylabel('Altitude')"
   ]
  },
  {
   "cell_type": "markdown",
   "metadata": {},
   "source": [
    "#### Visualization of latitude and longitude deviation of two models"
   ]
  },
  {
   "cell_type": "code",
   "execution_count": 70,
   "metadata": {},
   "outputs": [],
   "source": [
    "def RNN_deviation_scatter_plot():\n",
    "    plt.figure()\n",
    "    ax = plt.gca()\n",
    "\n",
    "    # recompute the ax.dataLim\n",
    "    ax.relim()\n",
    "    # update ax.viewLim using the new dataLim\n",
    "    ax.autoscale_view()\n",
    "    \n",
    "    integrated_dev_plt = plt.scatter(integrated_lat_dev, integrated_lng_dev, s = 20, c = 'magenta', alpha = 0.3, \n",
    "                                     label = 'Deviation between IP and AT')\n",
    "\n",
    "    no_DNN_dev = plt.scatter(no_DNN_lat_dev, no_DNN_lng_dev, s = 20, c = 'blue', alpha = 0.15, \n",
    "                             label = 'Deviation between RP and AT')\n",
    "\n",
    "    plt.xlabel('Latitude deviation')\n",
    "    plt.ylabel('Longitude deviation')\n",
    "    _ = plt.legend(handles = [integrated_dev_plt, no_DNN_dev], loc = 4)"
   ]
  },
  {
   "cell_type": "markdown",
   "metadata": {},
   "source": [
    "#### Caldulate Uncertainty Reduction Metrics"
   ]
  },
  {
   "cell_type": "code",
   "execution_count": 71,
   "metadata": {},
   "outputs": [],
   "source": [
    "def RNN_uncertainty_reduction_visualization():\n",
    "    #############################\n",
    "    #############################\n",
    "    n_groups = 2\n",
    "\n",
    "    # create plot\n",
    "    f = plt.figure(figsize=(14, 7))\n",
    "    f.add_subplot(121)\n",
    "    index = np.arange(n_groups)\n",
    "    bar_width = 0.25\n",
    "    opacity = 0.8\n",
    "\n",
    "    rects1 = plt.bar(index, mu_no_DNN, bar_width, alpha=opacity, color='b', label='RNN Model')\n",
    "    rects2 = plt.bar(index + bar_width, mu_integrated, bar_width, alpha=opacity, color='g', label='Integrated Model')\n",
    "\n",
    "    plt.ylabel(r'$\\mu$ of trajectory deviation from AT')\n",
    "    plt.xticks([0.17, 1.17], ('Latitude', 'Longitude'))\n",
    "    plt.legend(loc = 2)\n",
    "\n",
    "    #############################\n",
    "    f.add_subplot(122)\n",
    "    index = np.arange(n_groups)\n",
    "    bar_width = 0.35\n",
    "    opacity = 0.8\n",
    "\n",
    "    rects1 = plt.bar(index, sd_no_DNN, bar_width, alpha=opacity, color='b', label='RNN Model')\n",
    "    rects2 = plt.bar(index + bar_width, sd_integrated, bar_width, alpha=opacity, color='g', label='Integrated Model')\n",
    "\n",
    "    plt.ylabel(r'$\\sigma$ of trajectory deviation from AT')\n",
    "    plt.xticks([0.17, 1.17], ('Latitude', 'Longitude'))\n",
    "    plt.legend(loc = 2)\n",
    "\n",
    "    plt.tight_layout()\n",
    "    plt.show()"
   ]
  },
  {
   "cell_type": "markdown",
   "metadata": {},
   "source": [
    "#### Compute spatial distance from latitude and longitude"
   ]
  },
  {
   "cell_type": "code",
   "execution_count": 72,
   "metadata": {},
   "outputs": [],
   "source": [
    "from math import sin, cos, sqrt, atan2\n",
    "\n",
    "def get_distance(lat1, lon1, lat2, lon2):\n",
    "    radius = 3958 # unit in miles\n",
    "\n",
    "    dLat = (lat2-lat1) * math.pi / 180\n",
    "    dLng = (lon2-lon1) * math.pi / 180\n",
    "\n",
    "    lat1 = lat1 * math.pi / 180\n",
    "    lat2 = lat2 * math.pi / 180\n",
    "\n",
    "    val = sin(dLat/2) * sin(dLat/2) + sin(dLng/2) * sin(dLng/2) * cos(lat1) * cos(lat2)    \n",
    "    ang = 2 * atan2(sqrt(val), sqrt(1-val))\n",
    "    return radius * ang"
   ]
  },
  {
   "cell_type": "markdown",
   "metadata": {},
   "source": [
    "## Leave-one-out Cross-Validation"
   ]
  },
  {
   "cell_type": "code",
   "execution_count": 82,
   "metadata": {},
   "outputs": [
    {
     "data": {
      "text/plain": [
       "['Speed', 'Altitude', 'x_velocity', 'y_velocity', 'Latitude', 'Longitude']"
      ]
     },
     "execution_count": 82,
     "metadata": {},
     "output_type": "execute_result"
    }
   ],
   "source": [
    "col_names"
   ]
  },
  {
   "cell_type": "code",
   "execution_count": 83,
   "metadata": {},
   "outputs": [],
   "source": [
    "outer_loop = 1\n",
    "inner_loop = 1\n",
    "\n",
    "DNN_loss = list()\n",
    "DNN_reduction = list()\n",
    "\n",
    "RNN_loss = list()\n",
    "RNN_reduction = list()\n",
    "correction = list()\n",
    "\n",
    "n_iter = 1000"
   ]
  },
  {
   "cell_type": "code",
   "execution_count": 84,
   "metadata": {
    "scrolled": false
   },
   "outputs": [
    {
     "name": "stdout",
     "output_type": "stream",
     "text": [
      "Outer Iter:  0 Inner Iter:  0\n",
      "2019-01-13\n",
      "AAL598-lat_dev_2019-01-13.pth\n",
      "WARNING:tensorflow:From C:\\anaconda3\\envs\\deep-learning\\lib\\site-packages\\tensorflow\\python\\framework\\op_def_library.py:263: colocate_with (from tensorflow.python.framework.ops) is deprecated and will be removed in a future version.\n",
      "Instructions for updating:\n",
      "Colocations handled automatically by placer.\n",
      "WARNING:tensorflow:From C:\\anaconda3\\envs\\deep-learning\\lib\\site-packages\\keras\\backend\\tensorflow_backend.py:3445: calling dropout (from tensorflow.python.ops.nn_ops) with keep_prob is deprecated and will be removed in a future version.\n",
      "Instructions for updating:\n",
      "Please use `rate` instead of `keep_prob`. Rate should be set to `rate = 1 - keep_prob`.\n",
      "WARNING:tensorflow:From C:\\anaconda3\\envs\\deep-learning\\lib\\site-packages\\tensorflow\\python\\ops\\math_ops.py:3066: to_int32 (from tensorflow.python.ops.math_ops) is deprecated and will be removed in a future version.\n",
      "Instructions for updating:\n",
      "Use tf.cast instead.\n"
     ]
    }
   ],
   "source": [
    "## randomly select a trajectory to test the performance of the algorithm\n",
    "for outer_iter in range(outer_loop):\n",
    "    random_order = shuffle(np.arange(len(interpolated_df)), random_state = outer_iter + 1)\n",
    "    \n",
    "    for inner_iter in range(inner_loop):\n",
    "        print ('Outer Iter: ', outer_iter, 'Inner Iter: ', inner_iter)\n",
    "        \n",
    "        ## Determine test flight trajectory\n",
    "        test_index = random_order[inner_iter]\n",
    "        test_rec_date = str(interpolated_df[test_index]['actualPositionTime'].iloc[0])[:10]\n",
    "        test_rec_date = test_rec_date.strip()\n",
    "        print (test_rec_date)\n",
    "        \n",
    "        #################################################################################\n",
    "        ################################## DNN model for latitude #######################\n",
    "        #################################################################################\n",
    "        lat_col_name = ['lat_dev']\n",
    "        lat_model_name = flight_ID + '-' + ''.join(lat_col_name) + '_' + test_rec_date + '.pth'\n",
    "\n",
    "        DNN_X_lat_train, DNN_Y_lat_train, X_train_lat, Y_train_lat, X_test_lat, Y_test_lat,\\\n",
    "                                    lat_input_scaler, lat_output_scaler = prepare_data(lat_col_name)\n",
    "\n",
    "        print (lat_model_name)\n",
    "        \n",
    "        if os.path.exists(lat_model_name) and use_trained_model:\n",
    "            lat_model = torch.load(lat_model_name)\n",
    "        else:\n",
    "            lat_model = PyTorch_build_DNN_model(X_train_lat, Y_train_lat)\n",
    "            torch.save(lat_model, lat_model_name)\n",
    "\n",
    "        ########### Deterministic DNN Prediction for Latitude ##################    \n",
    "        Y_lat_deter_pred = PyTorch_DNN_deterministic_pred(lat_model, X_test_lat)\n",
    "        Y_lat_dev_pred = transform(lat_output_scaler, Y_lat_deter_pred)\n",
    "        Y_lat_pred = convert_to_actual_val(col_name = 'target_Latitude', dev_pred = Y_lat_dev_pred)\n",
    "        Y_lat_true = convert_to_actual_val(col_name = 'actual_Latitude')\n",
    "\n",
    "        ########### Probabilistic DNN Prediction for Latitude ##################\n",
    "        y_pred_do_lat, y_pred_do_mean_lat = PyTorch_DNN_probabilistic_pred(lat_model, X_test_lat, n_iter)\n",
    "        Y_lat_dev_pred_mean = transform(lat_output_scaler, y_pred_do_mean_lat)\n",
    "        Y_lat_pred_mean_ = convert_to_actual_val(col_name = 'target_Latitude', dev_pred = Y_lat_dev_pred_mean)\n",
    "        \n",
    "        ########################################################################################\n",
    "        ################################## DNN model for longitude #############################\n",
    "        ########################################################################################\n",
    "        lng_col_name = ['lng_dev']\n",
    "        lng_model_name = flight_ID + '-' + ''.join(lng_col_name) + '_' + test_rec_date + '.pth'\n",
    "\n",
    "        DNN_X_lng_train, DNN_Y_lng_train, X_train_lng, Y_train_lng, X_test_lng, Y_test_lng, \\\n",
    "                                    lng_input_scaler, lng_output_scaler = prepare_data(lng_col_name)\n",
    "        \n",
    "        if os.path.exists(lng_model_name) and use_trained_model:\n",
    "            lng_model = torch.load(lng_model_name)\n",
    "        else:\n",
    "            lng_model = PyTorch_build_DNN_model(X_train_lng, Y_train_lng)\n",
    "            torch.save(lng_model, lng_model_name)\n",
    "\n",
    "        ########### Deterministic DNN Prediction for Longitude ################## \n",
    "        Y_lng_deter_pred = PyTorch_DNN_deterministic_pred(lng_model, X_test_lng)\n",
    "        Y_lng_dev_pred = transform(lng_output_scaler, Y_lng_deter_pred)\n",
    "        Y_lng_pred = convert_to_actual_val(col_name = 'target_Longitude', dev_pred = Y_lng_dev_pred)\n",
    "        Y_lng_true = convert_to_actual_val(col_name = 'actual_Longitude')\n",
    "\n",
    "        ### altitude\n",
    "        Y_alt_pred = convert_to_actual_val(col_name = 'targetAltitude')\n",
    "\n",
    "        ########### Probabilistic DNN Prediction for Longitude ##################\n",
    "        y_pred_do_lng, y_pred_do_mean_lng = PyTorch_DNN_probabilistic_pred(lng_model, X_test_lng, n_iter)\n",
    "        Y_lng_dev_pred_mean = transform(lng_output_scaler, y_pred_do_mean_lng)\n",
    "        Y_lng_pred_mean_ = convert_to_actual_val(col_name = 'target_Longitude', dev_pred = Y_lng_dev_pred_mean)\n",
    "        \n",
    "        lat_dev_baseline, lng_dev_baseline, lat_dev_actual_pred, lng_dev_actual_pred, lat_mu_reduction, lng_mu_reduction, \\\n",
    "                        lat_sd_reduction, lng_sd_reduction = DNN_calculate_deviation()\n",
    "        \n",
    "        #DNN_combined_results()\n",
    "        \n",
    "        ###################  DNN Loss   #########################\n",
    "        lat_deter_loss_mse_d = mean_squared_error(Y_lat_true, Y_lat_pred)\n",
    "        lng_deter_loss_mse_d = mean_squared_error(Y_lng_true, Y_lng_pred)\n",
    "        lat_loss_mse_p = mean_squared_error(Y_lat_true, Y_lat_pred_mean_)\n",
    "        lng_loss_mse_p = mean_squared_error(Y_lng_true, Y_lng_pred_mean_)\n",
    "        \n",
    "        lat_deter_loss_mae_d = mean_absolute_error(Y_lat_true, Y_lat_pred)\n",
    "        lng_deter_loss_mae_d = mean_absolute_error(Y_lng_true, Y_lng_pred)\n",
    "        lat_loss_mae_p = mean_absolute_error(Y_lat_true, Y_lat_pred_mean_)\n",
    "        lng_loss_mae_p = mean_absolute_error(Y_lng_true, Y_lng_pred_mean_)\n",
    "        \n",
    "        # calculate spatial distance between prediction and actual values\n",
    "        spatial_deter_dist = []\n",
    "        spatial_prob_dist = []\n",
    "        for i in range(Y_lat_pred.shape[0]):\n",
    "            lat1, lon1, lat2, lon2 = Y_lat_pred[i], Y_lng_pred[i], Y_lat_true[i], Y_lng_true[i]\n",
    "            spatial_deter_dist.append(get_distance(lat1, lon1, lat2, lon2))\n",
    "            \n",
    "            lat1, lon1, lat2, lon2 = Y_lat_pred_mean_[i], Y_lng_pred_mean_[i], Y_lat_true[i], Y_lng_true[i]\n",
    "            spatial_prob_dist.append(get_distance(lat1, lon1, lat2, lon2))\n",
    "            \n",
    "        spatial_deter_loss = np.mean(spatial_deter_dist)\n",
    "        spatial_prob_dist = np.mean(spatial_prob_dist)\n",
    "        \n",
    "        DNN_loss.append([lat_deter_loss_mse_d, lng_deter_loss_mse_d, lat_loss_mse_p, lng_loss_mse_p,\n",
    "                         lat_deter_loss_mae_d, lng_deter_loss_mae_d, lat_loss_mae_p, lng_loss_mae_p,\n",
    "                         spatial_deter_loss, spatial_prob_dist])\n",
    "        \n",
    "        DNN_reduction.append([lat_mu_reduction, lat_sd_reduction, lng_mu_reduction, lng_sd_reduction])\n",
    "        \n",
    "        ##############################################################################\n",
    "        ########################     RNN Lat Lng Model Construction   ################\n",
    "        ##############################################################################\n",
    "        lat_lng_RNN_model_name = flight_ID + '-' + test_rec_date + '-' + 'lat_lng_RNN_model.h5'\n",
    "\n",
    "        X_train_data_, Y_train_data_, X_test_data_, Y_test_data_, X_train, Y_train, X_test, \\\n",
    "            Y_test, RNN_input_scaler, RNN_output_scaler = generate_RNN_data(window_size, step_ahead)\n",
    "\n",
    "        if os.path.exists(lat_lng_RNN_model_name) and use_trained_model:\n",
    "            lat_lng_RNN_model = load_model(lat_lng_RNN_model_name)\n",
    "        else:\n",
    "            ### Latitude & longitude model\n",
    "            lat_lng_RNN_model, RNN_hist = build_RNN_model(idrop = 0, rdrop = 0.1, odrop = 0.1, epochs = 1500,\n",
    "                                                          weight_decay = 1e-5, flag = False)\n",
    "            lat_lng_RNN_model.save(lat_lng_RNN_model_name)\n",
    "        \n",
    "        \n",
    "        ############################## RNN Prediction on Position ##################\n",
    "        no_output = 2\n",
    "\n",
    "        # four dimensions in result: no of samples, no of model output, no of rows in input_data, step_ahead\n",
    "        RNN_pos_p, RNN_pos_p_mu, RNN_pos_d = RNN_probabilistic_prediction(lat_lng_RNN_model, X_test, no_output, n_iter)\n",
    "            \n",
    "        #### Latitude\n",
    "        loc = col_names.index('Latitude')\n",
    "        RNN_lat_d, lat_test = RNN_inverse_transform(loc, RNN_pos_d[0, :, ], Y_test)\n",
    "        #print ('Latitude: ', mean_squared_error(RNN_lat_d, lat_test))\n",
    "\n",
    "        #### Longitude\n",
    "        loc = col_names.index('Longitude')\n",
    "        RNN_lng_d, lng_test = RNN_inverse_transform(loc, RNN_pos_d[1, :, ], Y_test)\n",
    "        #print ('Longitude:', mean_squared_error(RNN_lng_d, lng_test))\n",
    "        \n",
    "        #RNN_one_step_position_pred()\n",
    "        \n",
    "        \n",
    "        #######################################################################\n",
    "        ##################       RNN State Model Construction   ###############\n",
    "        #######################################################################\n",
    "        state_RNN_model_name = flight_ID + '-' + test_rec_date + '-' + 'state_RNN_model.h5'\n",
    "\n",
    "        if os.path.exists(state_RNN_model_name) and use_trained_model:\n",
    "            state_RNN_model = load_model(state_RNN_model_name)\n",
    "        else:\n",
    "            state_RNN_model, RNN_hist = build_RNN_model(idrop = 0, rdrop = 0.1, odrop = 0.1, epochs=1500, \n",
    "                                                        weight_decay = 6e-5, flag = True)\n",
    "            state_RNN_model.save(state_RNN_model_name)\n",
    "            \n",
    "            \n",
    "        ############################################ RNN Prediction on State ####################################\n",
    "        no_output = 3\n",
    "\n",
    "        # four dimensions in result: no of samples, no of model output, no of rows in input_data, step_ahead\n",
    "        RNN_state_p, RNN_state_p_mu, RNN_state_d = RNN_probabilistic_prediction(state_RNN_model, X_test, no_output, n_iter)\n",
    "    \n",
    "        loc = col_names.index('Altitude')\n",
    "        alt_model_pred, alt_test = RNN_inverse_transform(loc, RNN_state_d[0, :, ], Y_test)\n",
    "        #print ('Altitude: ', mean_squared_error(alt_model_pred, alt_test))\n",
    "\n",
    "        loc = col_names.index('x_velocity')\n",
    "        x_model_pred, x_vel_test = RNN_inverse_transform(loc, RNN_state_d[1, :, ], Y_test)\n",
    "        #print ('x_velocity: ', mean_squared_error(x_model_pred, x_vel_test))\n",
    "\n",
    "        loc = col_names.index('y_velocity')\n",
    "        y_model_pred, y_vel_test = RNN_inverse_transform(loc, RNN_state_d[2, :, ], Y_test)\n",
    "        #print ('y_velocity: ', mean_squared_error(y_model_pred, y_vel_test))\n",
    "    \n",
    "        \n",
    "        actual_val = np.array(Y_test_data_)\n",
    "        \n",
    "        ######################################### Uncertainty Reduction in Integrated Model #########################\n",
    "        integrated_lat_dev = list()\n",
    "        integrated_lng_dev = list()\n",
    "        integrated_alt_dev = list()\n",
    "        no_DNN_lat_dev = list()\n",
    "        no_DNN_lng_dev = list()\n",
    "        no_DNN_alt_dev = list()\n",
    "        \n",
    "        #Y_test.shape[0] - step_ahead * RNN_pred_steps\n",
    "        \n",
    "        for s in range(Y_test.shape[0] - 20 * step_ahead * RNN_pred_steps):\n",
    "            #print ('shape', Y_test.shape[0])\n",
    "            #print (s)\n",
    "            row_index = s\n",
    "\n",
    "            DNN_index = row_index + window_size - 1\n",
    "\n",
    "            Y_lat_pred_ = transform(lat_output_scaler, y_pred_do_mean_lat[DNN_index])\n",
    "            Y_lng_pred_ = transform(lng_output_scaler, y_pred_do_mean_lng[DNN_index])\n",
    "\n",
    "            DNN_lat_mu = convert_to_actual_val(col_name = 'target_Latitude', dev_pred = Y_lat_pred_)\n",
    "            DNN_lng_mu = convert_to_actual_val(col_name = 'target_Longitude', dev_pred = Y_lng_pred_)\n",
    "            DNN_alt_mu = Y_alt_pred\n",
    "\n",
    "            ############################### RNN Prediciton  #########################\n",
    "\n",
    "            #### Latitude\n",
    "            loc = col_names.index('Latitude')\n",
    "            RNN_lat_mu = inverse_RNN_pred(loc, RNN_pos_p_mu[0, :, ])\n",
    "\n",
    "            #### Longitude\n",
    "            loc = col_names.index('Longitude')\n",
    "            RNN_lng_mu = inverse_RNN_pred(loc, RNN_pos_p_mu[1, :, ])\n",
    "\n",
    "            #### Altitude\n",
    "            loc = col_names.index('Altitude')\n",
    "            RNN_alt_mu = inverse_RNN_pred(loc, RNN_state_p_mu[0, :, ])\n",
    "\n",
    "            #### X_velocity\n",
    "            loc = col_names.index('x_velocity')\n",
    "            RNN_x_velocity_mu = inverse_RNN_pred(loc, RNN_state_p_mu[1, :, ])\n",
    "\n",
    "            #### Y_velocity\n",
    "            loc = col_names.index('y_velocity')\n",
    "            RNN_y_velocity_mu = inverse_RNN_pred(loc, RNN_state_p_mu[2, :, ])\n",
    "\n",
    "            ########################## Calculate discrepancy  #####################\n",
    "            DNN_RNN_correction, DNN_actual_correction = calculate_discrepancy(row_index)\n",
    "            multi_pred_with_DNN = multi_step_RNN_pred(row_index, flag = True)\n",
    "            multi_pred_no_DNN = multi_step_RNN_pred(row_index, flag = False)\n",
    "            correction.append(DNN_RNN_correction)\n",
    "    \n",
    "            ########################## Record Deviation ##########################\n",
    "            integrated_lat_dev.append(np.abs(multi_pred_with_DNN[:, 4] - actual_val[s:s+10, 4]))\n",
    "            integrated_lng_dev.append(np.abs(multi_pred_with_DNN[:, 5] - actual_val[s:s+10, 5]))\n",
    "            integrated_alt_dev.append(np.abs(multi_pred_with_DNN[:, 1] - actual_val[s:s+10, 1]))\n",
    "            \n",
    "\n",
    "            no_DNN_lat_dev.append(np.abs(multi_pred_no_DNN[:, 4] - actual_val[s:s+10, 4]))\n",
    "            no_DNN_lng_dev.append(np.abs(multi_pred_no_DNN[:, 5] - actual_val[s:s+10, 5]))\n",
    "            no_DNN_alt_dev.append(np.abs(multi_pred_no_DNN[:, 1] - actual_val[s:s+10, 1]))\n",
    "        \n",
    "        integrated_lat_dev = np.concatenate(integrated_lat_dev, axis=0)\n",
    "        integrated_lng_dev = np.concatenate(integrated_lng_dev, axis=0)\n",
    "        integrated_alt_dev = np.concatenate(integrated_alt_dev, axis=0)\n",
    "        \n",
    "        no_DNN_lat_dev = np.concatenate(no_DNN_lat_dev, axis=0)\n",
    "        no_DNN_lng_dev = np.concatenate(no_DNN_lng_dev, axis=0)\n",
    "        no_DNN_alt_dev = np.concatenate(no_DNN_alt_dev, axis=0)\n",
    "        \n",
    "        mu_int_lat_dev = np.mean(integrated_lat_dev)\n",
    "        sd_int_lat_dev = np.std(integrated_lat_dev)\n",
    "\n",
    "        mu_int_lng_dev = np.mean(integrated_lng_dev)\n",
    "        sd_int_lng_dev = np.std(integrated_lng_dev)\n",
    "\n",
    "        mu_no_DNN_lat_dev = np.mean(no_DNN_lat_dev)\n",
    "        sd_no_DNN_lat_dev = np.std(no_DNN_lat_dev)\n",
    "\n",
    "        mu_no_DNN_lng_dev = np.mean(no_DNN_lng_dev)\n",
    "        sd_no_DNN_lng_dev = np.std(no_DNN_lng_dev)\n",
    "\n",
    "        mu_integrated = (mu_int_lat_dev, mu_int_lng_dev)\n",
    "        mu_no_DNN = (mu_no_DNN_lat_dev, mu_no_DNN_lng_dev)\n",
    "\n",
    "        sd_integrated = (sd_int_lat_dev, sd_int_lng_dev)\n",
    "        sd_no_DNN = (sd_no_DNN_lat_dev, sd_no_DNN_lng_dev)\n",
    "\n",
    "        percent_mu_lat = (mu_no_DNN_lat_dev - mu_int_lat_dev)/mu_no_DNN_lat_dev\n",
    "        percent_mu_lng = (mu_no_DNN_lng_dev - mu_int_lng_dev)/mu_no_DNN_lng_dev\n",
    "\n",
    "        percent_sd_lat = (sd_no_DNN_lat_dev - sd_int_lat_dev)/sd_no_DNN_lat_dev\n",
    "        percent_sd_lng = (sd_no_DNN_lng_dev - sd_int_lng_dev)/sd_no_DNN_lng_dev\n",
    "        \n",
    "        \n",
    "        #####################################  RNN Loss #######################################\n",
    "        RNN_lat_loss_mse = np.sqrt(np.mean(np.array(no_DNN_lat_dev)**2))\n",
    "        RNN_lng_loss_mse = np.sqrt(np.mean(np.array(no_DNN_lng_dev)**2))\n",
    "        Integrated_lat_loss_mse = np.sqrt(np.mean(np.array(integrated_lat_dev)**2))\n",
    "        Integrated_lng_loss_mse = np.sqrt(np.mean(np.array(integrated_lng_dev)**2))\n",
    "        RNN_alt_loss_mse = np.sqrt(np.mean(np.array(no_DNN_alt_dev)**2))\n",
    "        x_velocity_loss_mse = mean_squared_error(x_vel_test, x_model_pred)\n",
    "        y_velocity_loss_mse = mean_squared_error(y_vel_test, y_model_pred)\n",
    "        \n",
    "        \n",
    "        RNN_lat_loss_mae = np.mean(no_DNN_lat_dev)\n",
    "        RNN_lng_loss_mae = np.mean(no_DNN_lng_dev)\n",
    "        Integrated_lat_loss_mae = np.mean(integrated_lat_dev)\n",
    "        Integrated_lng_loss_mae = np.mean(integrated_lng_dev)\n",
    "        RNN_alt_loss_mae = np.mean(no_DNN_alt_dev)\n",
    "        x_velocity_loss_mae = mean_absolute_error(x_vel_test, x_model_pred)\n",
    "        y_velocity_loss_mae = mean_absolute_error(y_vel_test, y_model_pred)\n",
    "        \n",
    "        \n",
    "        RNN_loss.append([RNN_lat_loss_mse, RNN_lng_loss_mse, Integrated_lat_loss_mse, Integrated_lng_loss_mse, RNN_alt_loss_mse, \n",
    "                         x_velocity_loss_mse, y_velocity_loss_mse,\n",
    "                         RNN_lat_loss_mae, RNN_lng_loss_mae, Integrated_lat_loss_mae, Integrated_lng_loss_mae, RNN_alt_loss_mae,\n",
    "                         x_velocity_loss_mae, y_velocity_loss_mae])\n",
    "            \n",
    "        RNN_reduction.append([percent_mu_lat, percent_mu_lng, percent_sd_lat, percent_sd_lng])\n",
    "\n",
    "\n",
    "    #RNN_altitude_prediction()\n",
    "    #altitude_pred_comparison()\n",
    "    #lat_lng_model_comparsion()\n",
    "    #RNN_deviation_scatter_plot()\n",
    "    #RNN_uncertainty_reduction_visualization()"
   ]
  },
  {
   "cell_type": "code",
   "execution_count": 106,
   "metadata": {},
   "outputs": [
    {
     "data": {
      "text/plain": [
       "array([[ 37.298333, -79.174444],\n",
       "       [ 37.284722, -79.191944],\n",
       "       [ 37.268056, -79.215   ],\n",
       "       [ 37.251389, -79.233611],\n",
       "       [ 37.233889, -79.251667],\n",
       "       [ 37.215833, -79.268611],\n",
       "       [ 37.1975  , -79.284167],\n",
       "       [ 37.179167, -79.299722],\n",
       "       [ 37.161111, -79.315   ],\n",
       "       [ 37.142222, -79.330556]])"
      ]
     },
     "execution_count": 106,
     "metadata": {},
     "output_type": "execute_result"
    }
   ],
   "source": [
    "actual_val[s:s+10, 4:6]"
   ]
  },
  {
   "cell_type": "code",
   "execution_count": 91,
   "metadata": {},
   "outputs": [
    {
     "data": {
      "text/plain": [
       "array([[ 37.29714685, -79.17554668],\n",
       "       [ 37.28071252, -79.19302122],\n",
       "       [ 37.26416088, -79.21036148],\n",
       "       [ 37.24747738, -79.22756962],\n",
       "       [ 37.23066738, -79.24463111],\n",
       "       [ 37.21214222, -79.25298164],\n",
       "       [ 37.19586324, -79.27011697],\n",
       "       [ 37.17944115, -79.2870924 ],\n",
       "       [ 37.16286097, -79.30391287],\n",
       "       [ 37.14612746, -79.32056203]])"
      ]
     },
     "execution_count": 91,
     "metadata": {},
     "output_type": "execute_result"
    }
   ],
   "source": [
    "multi_pred_with_DNN[:, 4:6]"
   ]
  },
  {
   "cell_type": "code",
   "execution_count": 107,
   "metadata": {},
   "outputs": [
    {
     "data": {
      "image/png": "[encoded data removed]",
      "text/plain": [
       "<Figure size 864x432 with 1 Axes>"
      ]
     },
     "metadata": {
      "needs_background": "light"
     },
     "output_type": "display_data"
    }
   ],
   "source": [
    "lat_lng_model_comparsion()"
   ]
  },
  {
   "cell_type": "code",
   "execution_count": 108,
   "metadata": {},
   "outputs": [
    {
     "data": {
      "text/plain": [
       "0.010886323407642706"
      ]
     },
     "execution_count": 108,
     "metadata": {},
     "output_type": "execute_result"
    }
   ],
   "source": [
    "mean_absolute_error(multi_pred_no_DNN[:, 4:6], actual_val[s:s+10, 4:6])"
   ]
  },
  {
   "cell_type": "code",
   "execution_count": 109,
   "metadata": {},
   "outputs": [
    {
     "data": {
      "text/plain": [
       "0.004013525150348229"
      ]
     },
     "execution_count": 109,
     "metadata": {},
     "output_type": "execute_result"
    }
   ],
   "source": [
    "mean_absolute_error(multi_pred_with_DNN[:, 4:6], actual_val[s:s+10, 4:6])"
   ]
  },
  {
   "cell_type": "code",
   "execution_count": 100,
   "metadata": {},
   "outputs": [],
   "source": [
    "# with open(flight_ID + '-' + 'results.pkl', 'wb') as f:\n",
    "#      pickle.dump([DNN_loss, DNN_reduction, RNN_loss, RNN_reduction], f)\n",
    "    \n",
    "# with open(flight_ID + '-' + 'correction.pkl', 'wb') as f:\n",
    "#     pickle.dump(correction, f)\n",
    "    \n",
    "# with open(flight_ID + '-' + 'pro_prediction.pkl', 'wb') as f:\n",
    "#     pickle.dump([RNN_pos_p, RNN_state_p], f)"
   ]
  },
  {
   "cell_type": "code",
   "execution_count": 128,
   "metadata": {},
   "outputs": [
    {
     "name": "stdout",
     "output_type": "stream",
     "text": [
      "====================  ....DNN model.... =========================\n",
      "====================  Root mean squared error =========================\n",
      "DNN deterministic model: Lat -->  0.0010016401982445946 ; Lng -->  0.001453726720458662\n",
      "DNN probabilistic model: Lat -->  0.0009857683649134317 ; Lng -->  0.0013052240662663045\n",
      "====================  Mean absolute error =========================\n",
      "DNN deterministic model: Lat -->  0.0007330870818129384 ; Lng -->  0.00106853957040155\n",
      "DNN probabilistic model: Lat -->  0.0007178498265715409 ; Lng -->  0.0009530354191834251\n",
      "====================  Spatial distance    =========================\n",
      "DNN deterministic model: spatial dist -->  0.08463201703912901 ; probabilistic model spatial dist -->  0.0782081132729924\n",
      "\n",
      "\n",
      "====================  .... LSTM model .... =========================\n",
      "====================  Root mean squared error =========================\n",
      "RNN LSTM       model: Lat -->  0.03492671527040947 ; Lng -->  0.1686742228882676 ; Alt -->  623.7757383756026 ; X velocity -->  10.961729553374942 ; Y velocity -->  20.428735555207265\n",
      "RNN integrated model: Lat -->  0.014452302157497035 ; Lng -->  0.03875789736473325\n",
      "====================  Mean absolute error =========================\n",
      "RNN LSTM       model: Lat -->  0.03237914351019187 ; Lng -->  0.14623501588201093 ; Alt -->  434.7211287098384 ; X velocity -->  7.35006640278443 ; Y velocity -->  9.77834149766157\n",
      "RNN integrated model: Lat -->  0.00920765831440378 ; Lng -->  0.026415916058869775\n"
     ]
    }
   ],
   "source": [
    "import pickle\n",
    "import numpy as np\n",
    "\n",
    "AA598_res = open(flight_ID + '-results.pkl', 'rb')\n",
    "res = pickle.load(AA598_res)\n",
    "\n",
    "DNN_loss = np.array(res[0])\n",
    "\n",
    "print ('====================  ....DNN model.... =========================')\n",
    "print ('====================  Root mean squared error =========================')\n",
    "print ('DNN deterministic model: Lat --> ', np.mean(np.sqrt(DNN_loss[:, 0])), '; Lng --> ', np.mean(np.sqrt(DNN_loss[:, 1])))\n",
    "print ('DNN probabilistic model: Lat --> ', np.mean(np.sqrt(DNN_loss[:, 2])), '; Lng --> ', np.mean(np.sqrt(DNN_loss[:, 3])))\n",
    "\n",
    "print ('====================  Mean absolute error =========================')\n",
    "print ('DNN deterministic model: Lat --> ', np.mean(DNN_loss[:, 4]), '; Lng --> ', np.mean(DNN_loss[:, 5]))\n",
    "print ('DNN probabilistic model: Lat --> ', np.mean(DNN_loss[:, 6]), '; Lng --> ', np.mean(DNN_loss[:, 7]))\n",
    "\n",
    "print ('====================  Spatial distance    =========================')\n",
    "print ('DNN deterministic model: spatial dist --> ', np.mean(DNN_loss[:, 8]), \n",
    "       '; probabilistic model spatial dist --> ', np.mean(DNN_loss[:, 9]))\n",
    "print ('\\n')\n",
    "\n",
    "\n",
    "RNN_loss = np.array(res[2])\n",
    "\n",
    "print ('====================  .... LSTM model .... =========================')\n",
    "print ('====================  Root mean squared error =========================')\n",
    "print ('RNN LSTM       model: Lat --> ', np.mean(RNN_loss[:, 0]), '; Lng --> ', np.mean(RNN_loss[:, 1]), \\\n",
    "                    '; Alt --> ', np.mean(RNN_loss[:, 4]), '; X velocity --> ', np.mean(np.sqrt(RNN_loss[:, 5])), \\\n",
    "                    '; Y velocity --> ', np.mean(np.sqrt(RNN_loss[:, 6])))\n",
    "\n",
    "print ('RNN integrated model: Lat --> ', np.mean(RNN_loss[:, 2]), '; Lng --> ', np.mean(RNN_loss[:, 3]))\n",
    "\n",
    "print ('====================  Mean absolute error =========================')\n",
    "print ('RNN LSTM       model: Lat --> ', np.mean(RNN_loss[:, 7]), '; Lng --> ', np.mean(RNN_loss[:, 8]), \\\n",
    "                    '; Alt --> ', np.mean(RNN_loss[:, 11]), '; X velocity --> ', np.mean(RNN_loss[:, 12]), \\\n",
    "                    '; Y velocity --> ', np.mean(RNN_loss[:, 13]))\n",
    "\n",
    "print ('RNN integrated model: Lat --> ', np.mean(RNN_loss[:, 9]), '; Lng --> ', np.mean(RNN_loss[:, 10]))"
   ]
  },
  {
   "cell_type": "code",
   "execution_count": 87,
   "metadata": {},
   "outputs": [
    {
     "data": {
      "text/plain": [
       "3.834649805033909"
      ]
     },
     "execution_count": 87,
     "metadata": {},
     "output_type": "execute_result"
    }
   ],
   "source": [
    "(0.00920765831440378 * 70)**2 + (0.026415916058869775*70)**2"
   ]
  },
  {
   "cell_type": "code",
   "execution_count": null,
   "metadata": {},
   "outputs": [],
   "source": []
  }
 ],
 "metadata": {
  "kernelspec": {
   "display_name": "Python 3",
   "language": "python",
   "name": "python3"
  },
  "language_info": {
   "codemirror_mode": {
    "name": "ipython",
    "version": 3
   },
   "file_extension": ".py",
   "mimetype": "text/x-python",
   "name": "python",
   "nbconvert_exporter": "python",
   "pygments_lexer": "ipython3",
   "version": "3.7.3"
  }
 },
 "nbformat": 4,
 "nbformat_minor": 2
}
